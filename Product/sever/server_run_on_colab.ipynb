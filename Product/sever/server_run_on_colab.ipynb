{
  "nbformat": 4,
  "nbformat_minor": 0,
  "metadata": {
    "accelerator": "GPU",
    "colab": {
      "name": "test2.ipynb",
      "provenance": [],
      "collapsed_sections": [],
      "toc_visible": true
    },
    "kernelspec": {
      "display_name": "Python 3",
      "name": "python3"
    },
    "language_info": {
      "name": "python"
    }
  },
  "cells": [
    {
      "cell_type": "code",
      "metadata": {
        "id": "CG3I4gpNaD1a"
      },
      "source": [
        "from google.colab import drive\n",
        "drive.mount('/content/gdrive')"
      ],
      "execution_count": null,
      "outputs": []
    },
    {
      "cell_type": "code",
      "metadata": {
        "id": "3dlg0Q-iVRv8"
      },
      "source": [
        "%cd /content/gdrive/MyDrive/CS338.L22.KHCL\n",
        "!pwd\n",
        "!ls\n",
        "!pip install flask_cors\n",
        "!pip install flask-ngrok\n",
        "!pip install deepface\n",
        "%tensorflow_version 2.x\n",
        "import numpy as np\n",
        "from flask import Flask\n",
        "from flask_cors import CORS, cross_origin\n",
        "from flask import request, jsonify\n",
        "from tensorflow.keras.models import load_model\n",
        "import tensorflow as tf\n",
        "import cv2\n",
        "from PIL import Image\n",
        "import base64\n",
        "from flask_ngrok import run_with_ngrok\n",
        "from deepface import DeepFace\n",
        "import matplotlib.pyplot as plt"
      ],
      "execution_count": null,
      "outputs": []
    },
    {
      "cell_type": "code",
      "metadata": {
        "id": "5SzJHoMV0Y1G"
      },
      "source": [
        "app = Flask(__name__)\n",
        "run_with_ngrok(app) # ngrok colab\n",
        "\n",
        "model = load_model('MobileNetV3Large.h5')\n",
        "groups_names= ['Children', 'Teenage', 'Youth', 'Middle', 'Old']\n",
        "\n",
        "\n",
        "def predict_class(age):\n",
        "  if age <= 10: return groups_names[0] #Children 0 - 10\n",
        "  if age <= 18: return groups_names[1] #Teenage 10 - 18\n",
        "  if age <= 34: return groups_names[2] #Youth   19 - 34\n",
        "  if age <= 60: return groups_names[3] #Middle  35 - 60\n",
        "  return groups_names[4]               #Old     61+\n",
        "\n",
        "\n",
        "def ConvBase64toImage(img_base64):\n",
        "  try:\n",
        "    image = np.fromstring(base64.b64decode(img_base64), dtype=np.uint8)\n",
        "    image = cv2.imdecode(image, cv2.IMREAD_ANYCOLOR)\n",
        "    return image\n",
        "  except:\n",
        "    return None\n",
        "\n",
        "\n",
        "def preprocess_image(data):\n",
        "    image = Image.fromarray(data, 'RGB')\n",
        "    image = image.resize((224,224))\n",
        "    image = np.array(image)\n",
        "    image = np.expand_dims(image, axis = 0)\n",
        "    return image\n",
        "\n",
        "\n",
        "def detect_face(img_path):\n",
        "    backends = ['opencv', 'ssd', 'dlib', 'mtcnn', 'retinaface']\n",
        "    detected_face = DeepFace.detectFace( img_path , detector_backend='dlib')\n",
        "    return detected_face\n",
        "\n",
        "\n",
        "def predict_age(image):\n",
        "    input = preprocess_image(image)\n",
        "    result = model.predict(input)\n",
        "    return int(result)\n",
        "\n",
        "CORS(app)\n",
        "app.config['CORS_HEADERS'] = 'Content-Type'\n",
        "\n",
        "@app.route('/image', methods=['POST'])\n",
        "@cross_origin(origin='*')\n",
        "def process():\n",
        "    img_arg_base64 = request.form.get('img')\n",
        "    img1 = ConvBase64toImage(img_arg_base64)\n",
        "    img2 = detect_face(img1)\n",
        "    age = predict_age(img2)\n",
        "    cl_age = predict_class(age)\n",
        "    result = {\n",
        "        'age': age,\n",
        "        'cl_age': cl_age\n",
        "        }\n",
        "    return result\n",
        "    \n",
        "@app.route('/', methods=['GET'])\n",
        "@cross_origin(origin='*')\n",
        "def index():\n",
        "  return \"Hello day la sever from colab\"\n",
        "if __name__ == '__main__':\n",
        "  app.run()"
      ],
      "execution_count": null,
      "outputs": []
    },
    {
      "cell_type": "markdown",
      "metadata": {
        "id": "zMk23crYixko"
      },
      "source": [
        "#End"
      ]
    }
  ]
}