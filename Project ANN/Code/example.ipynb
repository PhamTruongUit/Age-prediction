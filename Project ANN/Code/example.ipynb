{
 "metadata": {
  "language_info": {
   "codemirror_mode": {
    "name": "ipython",
    "version": 3
   },
   "file_extension": ".py",
   "mimetype": "text/x-python",
   "name": "python",
   "nbconvert_exporter": "python",
   "pygments_lexer": "ipython3",
   "version": "3.7.6"
  },
  "orig_nbformat": 2,
  "kernelspec": {
   "name": "python376jvsc74a57bd01b620f4e069fc391bf838ac3714d378ab4f9a6212a250a0c4b6af69db2c82093",
   "display_name": "Python 3.7.6 64-bit ('base': conda)"
  }
 },
 "nbformat": 4,
 "nbformat_minor": 2,
 "cells": [
  {
   "cell_type": "code",
   "execution_count": 1,
   "metadata": {},
   "outputs": [],
   "source": [
    "from joblib.numpy_pickle_utils import xrange\n",
    "from numpy import *"
   ]
  },
  {
   "cell_type": "code",
   "execution_count": 2,
   "metadata": {},
   "outputs": [],
   "source": [
    "class NeuralNet(object):\n",
    "    # khởi tạo đối tượng của class NeuralNet\n",
    "    def __init__(self):\n",
    "        # tạo ma trận trọng số (3x1) với trọng số random. hàm random.random() return 1 số trong khoảng (0,1)\n",
    "        self.synaptic_weights = 2 * random.random((3, 1)) - 1\n",
    "\n",
    "    # The Sigmoid function: chuyển hóa kết quá về giữa 0 và 1\n",
    "    def __sigmoid(self, x):\n",
    "        s = 1 / (1 + exp(-x))\n",
    "        print (s)\n",
    "        return s\n",
    "    \n",
    "    # đạo hàm của hàm sigmod với công thức ở dưới, x là ma trận hoặc số\n",
    "    def __sigmoid_derivative(self, x):\n",
    "        s = x * (1 - x)\n",
    "        print (s)\n",
    "        return s\n",
    "\n",
    "    # huấn luyện mô hình\n",
    "    def train(self, inputs, outputs, training_iterations):\n",
    "        for iteration in xrange(training_iterations):\n",
    "            output = self.learn(inputs) # trả về output mới\n",
    "            error = outputs - output # chênh lệch giữa output mới và output test\n",
    "            # Điều chỉnh lại trọng số theo công thức dưới\n",
    "            factor = dot(inputs.T, error * self.__sigmoid_derivative(output))\n",
    "            self.synaptic_weights += factor\n",
    "\n",
    "    # kết quả mà mô hình tạm tính toán, điều chỉnh dần dần trong hàm train\n",
    "    def learn(self, inputs):\n",
    "        return self.__sigmoid(dot(inputs, self.synaptic_weights))\n"
   ]
  },
  {
   "cell_type": "code",
   "execution_count": 3,
   "metadata": {},
   "outputs": [
    {
     "output_type": "stream",
     "name": "stdout",
     "text": [
      "[[0.51819514]\n [0.56253185]\n [0.56162702]]\n[[0.24966894]\n [0.24608977]\n [0.24620211]]\n[[0.5396715 ]\n [0.65946087]\n [0.63403355]]\n[[0.24842617]\n [0.22457223]\n [0.23203501]]\n[0.71628035]\n[0.71628035]\n"
     ]
    }
   ],
   "source": [
    "if __name__ == \"__main__\":\n",
    "    #Khởi tạo\n",
    "    neural_network = NeuralNet()\n",
    "\n",
    "    # Train data\n",
    "    inputs = array([[0,0,1],\n",
    "                    [1,1,1],\n",
    "                    [1,0,1]])\n",
    "    outputs = array([[0,1,1]]).T\n",
    "\n",
    "    #Train the neural network: thay đổi số lần train để được kết quả tốt hơn\n",
    "    neural_network.train(inputs, outputs, 2)\n",
    "\n",
    "    #test\n",
    "    test = array([1,1,1])\n",
    "    res = neural_network.learn(test)\n",
    "    print(res)"
   ]
  }
 ]
}